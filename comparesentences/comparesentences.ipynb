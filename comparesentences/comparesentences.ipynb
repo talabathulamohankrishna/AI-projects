{
 "cells": [
  {
   "cell_type": "code",
   "execution_count": 35,
   "metadata": {},
   "outputs": [],
   "source": [
    "import re\n",
    "import string\n",
    "from sklearn.feature_extraction.text import TfidfVectorizer\n",
    "from sklearn.metrics.pairwise import cosine_similarity\n",
    "\n",
    "def preprocess_text(text):\n",
    "    # Remove punctuation\n",
    "    text = text.translate(str.maketrans(\"\", \"\", string.punctuation))\n",
    "    # Convert to lowercase\n",
    "    text = text.lower()\n",
    "    # Remove extra whitespace\n",
    "    text = re.sub('\\s+', ' ', text).strip()\n",
    "    return text\n",
    "\n",
    "def compare_sentences(sentence1, sentence2):\n",
    "    # Preprocess sentences\n",
    "    sentence1 = preprocess_text(sentence1)\n",
    "    sentence2 = preprocess_text(sentence2)\n",
    "    \n",
    "    # Calculate TF-IDF vectors\n",
    "    vectorizer = TfidfVectorizer()\n",
    "    vectors = vectorizer.fit_transform([sentence1, sentence2]).toarray()\n",
    "    \n",
    "    # Calculate cosine similarity\n",
    "    similarity = cosine_similarity([vectors[0]], [vectors[1]])\n",
    "    \n",
    "    return similarity[0][0]\n",
    "\n"
   ]
  },
  {
   "cell_type": "code",
   "execution_count": 36,
   "metadata": {},
   "outputs": [],
   "source": [
    "my_list = [\"Who are you?\", \"Where are you?\", \"Are you ok?\", \"Who is the president of India?\", \"Who is the president of America\", \"How are you?\"]\n"
   ]
  },
  {
   "cell_type": "code",
   "execution_count": 37,
   "metadata": {},
   "outputs": [
    {
     "name": "stdout",
     "output_type": "stream",
     "text": [
      "Similarity: 0.41\n",
      "Similarity: 0.41\n",
      "Similarity: 0.41\n",
      "Similarity: 0.00\n",
      "Similarity: 0.00\n",
      "Similarity: 0.78\n"
     ]
    }
   ],
   "source": [
    "userinput = \"Hello, How are you?\"\n",
    "\n",
    "for i in my_list:\n",
    "    similarity = compare_sentences(i, userinput)\n",
    "    print(f\"Similarity: {similarity:.2f}\")"
   ]
  },
  {
   "cell_type": "code",
   "execution_count": 38,
   "metadata": {},
   "outputs": [
    {
     "name": "stdout",
     "output_type": "stream",
     "text": [
      "Similarity: 0.00\n",
      "Similarity: 0.00\n",
      "Similarity: 0.00\n",
      "Similarity: 0.72\n",
      "Similarity: 0.50\n",
      "Similarity: 0.14\n"
     ]
    }
   ],
   "source": [
    "userinput = \"How is the president of india?\"\n",
    "\n",
    "for i in my_list:\n",
    "    similarity = compare_sentences(i, userinput)\n",
    "    print(f\"Similarity: {similarity:.2f}\")"
   ]
  },
  {
   "cell_type": "code",
   "execution_count": 39,
   "metadata": {},
   "outputs": [
    {
     "name": "stdout",
     "output_type": "stream",
     "text": [
      "Similarity: 0.00\n",
      "Similarity: 0.00\n",
      "Similarity: 0.00\n",
      "Similarity: 0.58\n",
      "Similarity: 0.32\n",
      "Similarity: 0.00\n"
     ]
    }
   ],
   "source": [
    "userinput = \"president of india?\"\n",
    "\n",
    "for i in my_list:\n",
    "    similarity = compare_sentences(i, userinput)\n",
    "    print(f\"Similarity: {similarity:.2f}\")"
   ]
  },
  {
   "cell_type": "code",
   "execution_count": null,
   "metadata": {},
   "outputs": [],
   "source": []
  }
 ],
 "metadata": {
  "kernelspec": {
   "display_name": "Python 3",
   "language": "python",
   "name": "python3"
  },
  "language_info": {
   "codemirror_mode": {
    "name": "ipython",
    "version": 3
   },
   "file_extension": ".py",
   "mimetype": "text/x-python",
   "name": "python",
   "nbconvert_exporter": "python",
   "pygments_lexer": "ipython3",
   "version": "3.10.10"
  },
  "orig_nbformat": 4
 },
 "nbformat": 4,
 "nbformat_minor": 2
}
